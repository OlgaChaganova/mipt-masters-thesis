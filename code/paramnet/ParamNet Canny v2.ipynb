{
 "cells": [
  {
   "cell_type": "code",
   "execution_count": 11,
   "metadata": {},
   "outputs": [
    {
     "name": "stdout",
     "output_type": "stream",
     "text": [
      "The autoreload extension is already loaded. To reload it, use:\n",
      "  %reload_ext autoreload\n"
     ]
    }
   ],
   "source": [
    "%load_ext autoreload\n",
    "%autoreload 2"
   ]
  },
  {
   "cell_type": "code",
   "execution_count": 2,
   "metadata": {},
   "outputs": [],
   "source": [
    "%reload_ext autoreload"
   ]
  },
  {
   "cell_type": "code",
   "execution_count": 3,
   "metadata": {},
   "outputs": [],
   "source": [
    "from IPython.display import clear_output\n",
    "\n",
    "# !pip install torchvision==0.11.1 \n",
    "# !pip install torchsummary \n",
    "# !pip install torchmetrics \n",
    "# !pip install pyDOE\n",
    "# !pip install git+https://github.com/Fangyh09/pytorch-receptive-field.git \n",
    "    \n",
    "clear_output()"
   ]
  },
  {
   "cell_type": "code",
   "execution_count": 4,
   "metadata": {},
   "outputs": [
    {
     "data": {
      "text/plain": [
       "{'DATA_DIR': '/home/jovyan/Linnaeus 5/Linnaeus 5 128X128/',\n",
       " 'MODELS_DIR': '/home/jovyan/Models/',\n",
       " 'IMG_SIZE': 128,\n",
       " 'GAMMA': 2.2,\n",
       " 'BATCH_SIZE': 8,\n",
       " 'EPOCHS': 75,\n",
       " 'NUM_SET_PARAMS': 1000,\n",
       " 'SIGMA': 1,\n",
       " 'RADIUS': 20,\n",
       " 'WIDTH': 40,\n",
       " 'K': 0.8,\n",
       " 'WIN_SIZE': 25}"
      ]
     },
     "execution_count": 4,
     "metadata": {},
     "output_type": "execute_result"
    }
   ],
   "source": [
    "from IPython.display import clear_output\n",
    "import torch\n",
    "import torch.nn as nn\n",
    "import torch.nn.functional as F\n",
    "from torchsummary import summary\n",
    "from torch_receptive_field import receptive_field\n",
    "from skimage import feature, filters, morphology\n",
    "from torch.utils.data import Dataset, DataLoader\n",
    "import numpy as np\n",
    "import matplotlib.pyplot as plt\n",
    "import copy\n",
    "import importlib\n",
    "import warnings\n",
    "warnings.simplefilter(action='ignore', category=FutureWarning)\n",
    "warnings.simplefilter(action='ignore', category=UserWarning)\n",
    "\n",
    "import data_preprocessing\n",
    "from data_preprocessing import ParLinnaeus5, ParLinnaeus5_v2, Linnaeus5, get_data, get_dataloaders\n",
    "from models import ConvNet\n",
    "from early_stopping import EarlyStopping\n",
    "import experiment\n",
    "from experiment import run_experiment\n",
    "from metrics import define_comparison_table\n",
    "from utils import load_config, load_trained_model\n",
    "from visualization import imshow, show_PIL\n",
    "\n",
    "config = load_config(\"config.yaml\")\n",
    "config"
   ]
  },
  {
   "cell_type": "markdown",
   "metadata": {},
   "source": [
    "### 1] Матрица коэффициентов линейной комбинации фильтров одна для всех слоев"
   ]
  },
  {
   "cell_type": "markdown",
   "metadata": {},
   "source": [
    "1) по 64 фильтра на слое"
   ]
  },
  {
   "cell_type": "code",
   "execution_count": 7,
   "metadata": {},
   "outputs": [],
   "source": [
    "BS = 10\n",
    "IN = 32\n",
    "NUM = 12"
   ]
  },
  {
   "cell_type": "code",
   "execution_count": 17,
   "metadata": {},
   "outputs": [],
   "source": [
    "param = ParamBlock(3, NUM)"
   ]
  },
  {
   "cell_type": "code",
   "execution_count": 18,
   "metadata": {},
   "outputs": [
    {
     "data": {
      "text/plain": [
       "torch.Size([10, 1, 12])"
      ]
     },
     "execution_count": 18,
     "metadata": {},
     "output_type": "execute_result"
    }
   ],
   "source": [
    "params_values = torch.randn([BS, 3])\n",
    "param = ParamBlock(3, NUM)\n",
    "coeffs = param(params_values)\n",
    "coeffs.shape"
   ]
  },
  {
   "cell_type": "code",
   "execution_count": 19,
   "metadata": {},
   "outputs": [
    {
     "data": {
      "text/plain": [
       "torch.Size([10, 12, 32, 128, 128])"
      ]
     },
     "execution_count": 19,
     "metadata": {},
     "output_type": "execute_result"
    }
   ],
   "source": [
    "conv = nn.Conv2d(in_channels=IN*NUM, out_channels=IN*NUM, kernel_size=3, padding=1, groups=NUM)\n",
    "img = torch.randn([BS, IN, 128, 128])\n",
    "x = img.repeat(1, NUM, 1, 1)\n",
    "torch.cat(conv(x).chunk(NUM, dim=1), dim=0).view(-1, NUM, IN, 128, 128).shape"
   ]
  },
  {
   "cell_type": "code",
   "execution_count": 20,
   "metadata": {},
   "outputs": [
    {
     "data": {
      "text/plain": [
       "torch.Size([10, 12, 524288])"
      ]
     },
     "execution_count": 20,
     "metadata": {},
     "output_type": "execute_result"
    }
   ],
   "source": [
    "kernels = torch.cat(conv(x).chunk(NUM, dim=1), dim=0).view(-1, NUM, IN*128*128)\n",
    "kernels.shape"
   ]
  },
  {
   "cell_type": "code",
   "execution_count": 21,
   "metadata": {},
   "outputs": [
    {
     "data": {
      "text/plain": [
       "torch.Size([10, 32, 128, 128])"
      ]
     },
     "execution_count": 21,
     "metadata": {},
     "output_type": "execute_result"
    }
   ],
   "source": [
    "# kernels = torch.cat(conv(x).chunk(NUM, dim=1), dim=0).view(-1, NUM, 16, 128, 128).view(-1, 16*128*128, NUM)\n",
    "torch.bmm(coeffs, kernels).view(-1, IN, 128, 128).shape"
   ]
  },
  {
   "cell_type": "code",
   "execution_count": 29,
   "metadata": {},
   "outputs": [],
   "source": [
    "class ParamBlock(nn.Module):\n",
    "    def __init__(self, num_features, num_coeffs, bias=True):\n",
    "        '''\n",
    "        num_features: number of parameters of an approximated filter\n",
    "        in_channels:  number of input channels (equal to number of filters in the previous hidden layer)\n",
    "        out_channels: number of output channels (equal to number of new filters \n",
    "                      that are linear combinations of the filters from previous hidden layer)\n",
    "        '''\n",
    "        super(ParamBlock, self).__init__()\n",
    "        \n",
    "        self.param_block = nn.Sequential(\n",
    "            nn.Linear(in_features=num_features, out_features=5*num_coeffs, bias=bias),\n",
    "            nn.LeakyReLU(0.02),\n",
    "            nn.Linear(in_features=5*num_coeffs, out_features=10*num_coeffs, bias=bias),\n",
    "            nn.LeakyReLU(0.02),\n",
    "            nn.Linear(in_features=10*num_coeffs, out_features=num_coeffs, bias=bias)\n",
    "        )\n",
    "\n",
    "    def forward(self, x):\n",
    "        out = self.param_block(x)\n",
    "        out = F.tanh(out)\n",
    "        return out.unsqueeze(1)\n",
    "    \n",
    "###### для каждого слоя своя матрица интерполяции\n",
    "\n",
    "class ParamConv(nn.Conv2d):\n",
    "    def __init__(self, in_channels, img_size, num_features, num_coeffs):       \n",
    "        super(ParamConv, self).__init__(in_channels, in_channels, kernel_size=3, bias=False)\n",
    "        self.in_channels = in_channels\n",
    "        self.img_size = img_size\n",
    "        self.num_coeffs = num_coeffs\n",
    "        \n",
    "        self.conv = nn.Conv2d(in_channels=in_channels*num_coeffs,\n",
    "                              out_channels=in_channels*num_coeffs,\n",
    "                              kernel_size=3, padding=1, groups=self.num_coeffs)\n",
    "        \n",
    "        self.param_block = ParamBlock(num_features, num_coeffs)\n",
    "        \n",
    "        \n",
    "    def forward(self, img, parameters):\n",
    "        # stack the input image <num_coeffs> times\n",
    "        img = img.repeat(1, self.num_coeffs, 1, 1)\n",
    "#         print(img.shape)\n",
    "        \n",
    "        #flatten kernels\n",
    "        kernels = torch.cat(self.conv(img).chunk(self.num_coeffs, dim=1), dim=0)\n",
    "#         kernels = kernels.view(-1, self.in_channels*self.img_size*self.img_size, self.num_coeffs)\n",
    "        kernels = kernels.view(-1, self.num_coeffs, self.in_channels*self.img_size*self.img_size)\n",
    "\n",
    "        # coeffs\n",
    "        coeffs = self.param_block(parameters)\n",
    "\n",
    "#         out = torch.bmm(kernels, coeffs).view(-1, self.in_channels, self.img_size, self.img_size)\n",
    "        out = torch.bmm(coeffs, kernels).view(-1, self.in_channels, self.img_size, self.img_size)\n",
    "        out = out.view(-1, self.in_channels, self.img_size, self.img_size)\n",
    "        return out\n",
    " \n",
    "\n",
    "######\n",
    "\n",
    "class ParamNet(nn.Module):\n",
    "    def __init__(self, filter_name, num_features, in_channels, mid_channels, num_coeffs, img_size=128, threshold=0.5):\n",
    "        super().__init__()\n",
    "        self.filter_name = filter_name\n",
    "        self.threshold = threshold\n",
    "        \n",
    "        self.conv0  = nn.Conv2d(in_channels=in_channels,\n",
    "                                out_channels=mid_channels,\n",
    "                                kernel_size=3, padding=1)\n",
    "        \n",
    "        self.conv1  = ParamConv(in_channels=mid_channels,\n",
    "                                img_size=img_size,\n",
    "                                num_features=num_features,\n",
    "                                num_coeffs=num_coeffs)\n",
    "        \n",
    "        self.conv2  = ParamConv(in_channels=mid_channels,\n",
    "                                img_size=img_size,\n",
    "                                num_features=num_features,\n",
    "                                num_coeffs=num_coeffs)\n",
    "        \n",
    "        self.conv3  = ParamConv(in_channels=mid_channels,\n",
    "                                img_size=img_size,\n",
    "                                num_features=num_features,\n",
    "                                num_coeffs=num_coeffs)\n",
    "        \n",
    "        self.conv10 = ParamConv(in_channels=mid_channels,\n",
    "                                img_size=img_size,\n",
    "                                num_features=num_features,\n",
    "                                num_coeffs=num_coeffs)\n",
    "        \n",
    "        self.conv11 = nn.Conv2d(in_channels=mid_channels,\n",
    "                                out_channels=1,\n",
    "                                kernel_size=3, padding=1) \n",
    "        \n",
    "    def forward(self, x, params):        \n",
    "      x = F.leaky_relu_(self.conv0(x), 0.02)                        \n",
    "      x = F.leaky_relu_(self.conv1(x, params), 0.02)\n",
    "      x = F.leaky_relu_(self.conv2(x, params), 0.02)\n",
    "      x = F.leaky_relu_(self.conv3(x, params), 0.02)\n",
    "      x = F.leaky_relu_(self.conv10(x, params), 0.02)\n",
    "      x = self.conv11(x)\n",
    " \n",
    "      probas = torch.sigmoid(x)\n",
    "      if self.filter_name in ['canny', 'niblack']:\n",
    "        y_hat = (probas>=self.threshold).float()\n",
    "      else:\n",
    "        y_hat = probas\n",
    "      return probas, y_hat"
   ]
  },
  {
   "cell_type": "code",
   "execution_count": 26,
   "metadata": {},
   "outputs": [],
   "source": [
    "paramnet = ParamNet(filter_name='canny',\n",
    "                   num_features=1,\n",
    "                   in_channels=1,\n",
    "                   mid_channels=12,\n",
    "                   num_coeffs=12)\n",
    "\n",
    "img = torch.randn([10, 1, 128, 128])\n",
    "params = torch.randn([10, 1])\n",
    "# paramnet(img, params)[0]"
   ]
  },
  {
   "cell_type": "code",
   "execution_count": 30,
   "metadata": {},
   "outputs": [
    {
     "name": "stderr",
     "output_type": "stream",
     "text": [
      "\r",
      "  0%|          | 0/750 [00:00<?, ?it/s]"
     ]
    },
    {
     "name": "stdout",
     "output_type": "stream",
     "text": [
      "Files are loaded.\n",
      "Train size:  6000 \t Valid size:  1000 \t Test size:  1000\n",
      "\n",
      "************    Starting experiment    ************\n",
      "\n",
      "Model: ParamNet(\n",
      "  (conv0): Conv2d(1, 12, kernel_size=(3, 3), stride=(1, 1), padding=(1, 1))\n",
      "  (conv1): ParamConv(\n",
      "    12, 12, kernel_size=(3, 3), stride=(1, 1), bias=False\n",
      "    (conv): Conv2d(144, 144, kernel_size=(3, 3), stride=(1, 1), padding=(1, 1), groups=12)\n",
      "    (param_block): ParamBlock(\n",
      "      (param_block): Sequential(\n",
      "        (0): Linear(in_features=3, out_features=60, bias=True)\n",
      "        (1): LeakyReLU(negative_slope=0.02)\n",
      "        (2): Linear(in_features=60, out_features=120, bias=True)\n",
      "        (3): LeakyReLU(negative_slope=0.02)\n",
      "        (4): Linear(in_features=120, out_features=12, bias=True)\n",
      "      )\n",
      "    )\n",
      "  )\n",
      "  (conv2): ParamConv(\n",
      "    12, 12, kernel_size=(3, 3), stride=(1, 1), bias=False\n",
      "    (conv): Conv2d(144, 144, kernel_size=(3, 3), stride=(1, 1), padding=(1, 1), groups=12)\n",
      "    (param_block): ParamBlock(\n",
      "      (param_block): Sequential(\n",
      "        (0): Linear(in_features=3, out_features=60, bias=True)\n",
      "        (1): LeakyReLU(negative_slope=0.02)\n",
      "        (2): Linear(in_features=60, out_features=120, bias=True)\n",
      "        (3): LeakyReLU(negative_slope=0.02)\n",
      "        (4): Linear(in_features=120, out_features=12, bias=True)\n",
      "      )\n",
      "    )\n",
      "  )\n",
      "  (conv3): ParamConv(\n",
      "    12, 12, kernel_size=(3, 3), stride=(1, 1), bias=False\n",
      "    (conv): Conv2d(144, 144, kernel_size=(3, 3), stride=(1, 1), padding=(1, 1), groups=12)\n",
      "    (param_block): ParamBlock(\n",
      "      (param_block): Sequential(\n",
      "        (0): Linear(in_features=3, out_features=60, bias=True)\n",
      "        (1): LeakyReLU(negative_slope=0.02)\n",
      "        (2): Linear(in_features=60, out_features=120, bias=True)\n",
      "        (3): LeakyReLU(negative_slope=0.02)\n",
      "        (4): Linear(in_features=120, out_features=12, bias=True)\n",
      "      )\n",
      "    )\n",
      "  )\n",
      "  (conv10): ParamConv(\n",
      "    12, 12, kernel_size=(3, 3), stride=(1, 1), bias=False\n",
      "    (conv): Conv2d(144, 144, kernel_size=(3, 3), stride=(1, 1), padding=(1, 1), groups=12)\n",
      "    (param_block): ParamBlock(\n",
      "      (param_block): Sequential(\n",
      "        (0): Linear(in_features=3, out_features=60, bias=True)\n",
      "        (1): LeakyReLU(negative_slope=0.02)\n",
      "        (2): Linear(in_features=60, out_features=120, bias=True)\n",
      "        (3): LeakyReLU(negative_slope=0.02)\n",
      "        (4): Linear(in_features=120, out_features=12, bias=True)\n",
      "      )\n",
      "    )\n",
      "  )\n",
      "  (conv11): Conv2d(12, 1, kernel_size=(3, 3), stride=(1, 1), padding=(1, 1))\n",
      ")\n",
      "\n",
      "Model's summary:\n",
      "Model's summary is not available\n",
      "\n",
      "Training:\n",
      "Files are loaded.\n",
      "Train size:  6000 \t Valid size:  1000 \t Test size:  1000\n"
     ]
    },
    {
     "name": "stderr",
     "output_type": "stream",
     "text": [
      "100%|██████████| 750/750 [01:00<00:00, 12.39it/s]\n",
      "  0%|          | 2/750 [00:00<01:02, 12.03it/s]"
     ]
    },
    {
     "name": "stdout",
     "output_type": "stream",
     "text": [
      "Metrics cannot be calculated\n",
      "Epoch 1:\t mean train_loss: 0.376951\t mean val_loss 0.359781\n",
      "\n"
     ]
    },
    {
     "name": "stderr",
     "output_type": "stream",
     "text": [
      "100%|██████████| 750/750 [01:01<00:00, 12.22it/s]\n",
      "  0%|          | 2/750 [00:00<01:09, 10.73it/s]"
     ]
    },
    {
     "name": "stdout",
     "output_type": "stream",
     "text": [
      "Metrics cannot be calculated\n",
      "Epoch 2:\t mean train_loss: 0.349695\t mean val_loss 0.326722\n",
      "\n"
     ]
    },
    {
     "name": "stderr",
     "output_type": "stream",
     "text": [
      "100%|██████████| 750/750 [01:01<00:00, 12.18it/s]\n"
     ]
    },
    {
     "name": "stdout",
     "output_type": "stream",
     "text": [
      "Metrics cannot be calculated\n",
      "Epoch 3:\t mean train_loss: 0.319921\t mean val_loss 0.307521\n",
      "\n"
     ]
    },
    {
     "name": "stderr",
     "output_type": "stream",
     "text": [
      "100%|██████████| 750/750 [01:01<00:00, 12.20it/s]\n",
      "  0%|          | 2/750 [00:00<01:03, 11.86it/s]"
     ]
    },
    {
     "name": "stdout",
     "output_type": "stream",
     "text": [
      "Metrics cannot be calculated\n",
      "Epoch 4:\t mean train_loss: 0.294705\t mean val_loss 0.288264\n",
      "\n"
     ]
    },
    {
     "name": "stderr",
     "output_type": "stream",
     "text": [
      "100%|██████████| 750/750 [01:01<00:00, 12.19it/s]\n",
      "  0%|          | 2/750 [00:00<01:01, 12.24it/s]"
     ]
    },
    {
     "name": "stdout",
     "output_type": "stream",
     "text": [
      "Metrics cannot be calculated\n",
      "Epoch 5:\t mean train_loss: 0.284598\t mean val_loss 0.270660\n",
      "\n"
     ]
    },
    {
     "name": "stderr",
     "output_type": "stream",
     "text": [
      "100%|██████████| 750/750 [01:01<00:00, 12.22it/s]\n",
      "  0%|          | 2/750 [00:00<01:04, 11.66it/s]"
     ]
    },
    {
     "name": "stdout",
     "output_type": "stream",
     "text": [
      "Metrics cannot be calculated\n",
      "Epoch 6:\t mean train_loss: 0.280699\t mean val_loss 0.273794\n",
      "\n",
      "INFO: Early stopping counter 1 of 11\n"
     ]
    },
    {
     "name": "stderr",
     "output_type": "stream",
     "text": [
      "100%|██████████| 750/750 [01:01<00:00, 12.23it/s]\n"
     ]
    },
    {
     "name": "stdout",
     "output_type": "stream",
     "text": [
      "Metrics cannot be calculated\n",
      "Epoch 7:\t mean train_loss: 0.275867\t mean val_loss 0.270180\n",
      "\n",
      "The best loss on validation is reached. Saving the model.\n",
      "Model is not a DataParallel object.\n",
      "\n",
      "Model's weights were saved. Name:  paramnet2-canny-7 \n",
      "\n",
      "Params: 0.17538455412447 0.13623946175762658 0.17271402392745977\n",
      "Params: 0.5995657468036464 0.17085813269766548 0.3186137393438979\n",
      "Params: 2.9935683721175685 0.12363669989469714 0.2456785969003133\n",
      "Params: 2.42851868485842 0.17980780526954004 0.22450655877756123\n",
      "Params: 0.5925045623296372 0.15755130101023176 0.2243691658966225\n",
      "Params: 1.2775920502773959 0.19533340269841618 0.38877697000866396\n",
      "Params: 2.3030600716577743 0.17745641763516373 0.22715122241713365\n",
      "Params: 1.8132921695453434 0.1207803564216556 0.14013041683230051\n"
     ]
    },
    {
     "ename": "AttributeError",
     "evalue": "'list' object has no attribute 'cuda'",
     "output_type": "error",
     "traceback": [
      "\u001b[0;31m---------------------------------------------------------------------------\u001b[0m",
      "\u001b[0;31mAttributeError\u001b[0m                            Traceback (most recent call last)",
      "\u001b[0;32m<ipython-input-30-172f9c21fd4c>\u001b[0m in \u001b[0;36m<module>\u001b[0;34m\u001b[0m\n\u001b[1;32m     25\u001b[0m                                                 \u001b[0mcomp_table\u001b[0m\u001b[0;34m=\u001b[0m\u001b[0;32mNone\u001b[0m\u001b[0;34m,\u001b[0m\u001b[0;34m\u001b[0m\u001b[0;34m\u001b[0m\u001b[0m\n\u001b[1;32m     26\u001b[0m                                                 \u001b[0mwriter\u001b[0m\u001b[0;34m=\u001b[0m\u001b[0;32mNone\u001b[0m\u001b[0;34m,\u001b[0m\u001b[0;34m\u001b[0m\u001b[0;34m\u001b[0m\u001b[0m\n\u001b[0;32m---> 27\u001b[0;31m                                                 start_idx=0)\n\u001b[0m",
      "\u001b[0;32m~/approxnn 2022/experiment.py\u001b[0m in \u001b[0;36mrun_experiment\u001b[0;34m(filter_name, model, optimizer, criterion, scheduler, stopping, dataset, is_parameterized, use_cache, is_linear, model_name, add_channel, comp_table, writer, start_idx)\u001b[0m\n\u001b[1;32m     46\u001b[0m     trained_model, history, metrics_calc = train(model, optimizer, dataset, scheduler, stopping,\n\u001b[1;32m     47\u001b[0m                                                  \u001b[0mcriterion\u001b[0m\u001b[0;34m,\u001b[0m \u001b[0mfilter_name\u001b[0m\u001b[0;34m,\u001b[0m \u001b[0mmodel_name\u001b[0m\u001b[0;34m,\u001b[0m \u001b[0madd_channel\u001b[0m\u001b[0;34m,\u001b[0m\u001b[0;34m\u001b[0m\u001b[0;34m\u001b[0m\u001b[0m\n\u001b[0;32m---> 48\u001b[0;31m                                                  is_parameterized, use_cache, is_linear, start_idx)\n\u001b[0m\u001b[1;32m     49\u001b[0m \u001b[0;34m\u001b[0m\u001b[0m\n\u001b[1;32m     50\u001b[0m     \u001b[0;31m# show training and metric curves\u001b[0m\u001b[0;34m\u001b[0m\u001b[0;34m\u001b[0m\u001b[0;34m\u001b[0m\u001b[0m\n",
      "\u001b[0;32m~/approxnn 2022/training.py\u001b[0m in \u001b[0;36mtrain\u001b[0;34m(model, opt, dataset, scheduler, stopping, criterion, filter_name, model_name, add_channel, is_parameterized, use_cache, is_linear, start_idx)\u001b[0m\n\u001b[1;32m    113\u001b[0m         \u001b[0mbest_loss_val\u001b[0m \u001b[0;34m=\u001b[0m \u001b[0mnp\u001b[0m\u001b[0;34m.\u001b[0m\u001b[0mmean\u001b[0m\u001b[0;34m(\u001b[0m\u001b[0mval_loss_per_epoch\u001b[0m\u001b[0;34m)\u001b[0m\u001b[0;34m\u001b[0m\u001b[0;34m\u001b[0m\u001b[0m\n\u001b[1;32m    114\u001b[0m         \u001b[0msave_trained_model\u001b[0m\u001b[0;34m(\u001b[0m\u001b[0mmodel\u001b[0m\u001b[0;34m,\u001b[0m \u001b[0mopt\u001b[0m\u001b[0;34m,\u001b[0m \u001b[0mcriterion\u001b[0m\u001b[0;34m,\u001b[0m \u001b[0mepoch\u001b[0m\u001b[0;34m+\u001b[0m\u001b[0;36m1\u001b[0m\u001b[0;34m,\u001b[0m \u001b[0mmodel_name\u001b[0m\u001b[0;34m,\u001b[0m \u001b[0mstart_idx\u001b[0m\u001b[0;34m=\u001b[0m\u001b[0mstart_idx\u001b[0m\u001b[0;34m)\u001b[0m\u001b[0;34m\u001b[0m\u001b[0;34m\u001b[0m\u001b[0m\n\u001b[0;32m--> 115\u001b[0;31m         \u001b[0mvisualize_result\u001b[0m\u001b[0;34m(\u001b[0m\u001b[0mmodel\u001b[0m\u001b[0;34m,\u001b[0m \u001b[0mvalid_param_loader\u001b[0m\u001b[0;34m,\u001b[0m \u001b[0mfilter_name\u001b[0m\u001b[0;34m,\u001b[0m \u001b[0mcriterion\u001b[0m\u001b[0;34m,\u001b[0m \u001b[0mis_linear\u001b[0m\u001b[0;34m,\u001b[0m \u001b[0mis_silent\u001b[0m\u001b[0;34m=\u001b[0m\u001b[0;32mFalse\u001b[0m\u001b[0;34m)\u001b[0m\u001b[0;34m\u001b[0m\u001b[0;34m\u001b[0m\u001b[0m\n\u001b[0m\u001b[1;32m    116\u001b[0m         \u001b[0mprint\u001b[0m\u001b[0;34m(\u001b[0m\u001b[0;34m'\\n'\u001b[0m\u001b[0;34m)\u001b[0m\u001b[0;34m\u001b[0m\u001b[0;34m\u001b[0m\u001b[0m\n\u001b[1;32m    117\u001b[0m \u001b[0;34m\u001b[0m\u001b[0m\n",
      "\u001b[0;32m~/approxnn 2022/visualization.py\u001b[0m in \u001b[0;36mvisualize_result\u001b[0;34m(model, dataloader, filter_name, criterion, is_linear, type, use_cuda, is_silent)\u001b[0m\n\u001b[1;32m     42\u001b[0m   \u001b[0mx\u001b[0m\u001b[0;34m,\u001b[0m \u001b[0my\u001b[0m \u001b[0;34m=\u001b[0m \u001b[0mnext\u001b[0m\u001b[0;34m(\u001b[0m\u001b[0miter\u001b[0m\u001b[0;34m(\u001b[0m\u001b[0mdataloader\u001b[0m\u001b[0;34m)\u001b[0m\u001b[0;34m)\u001b[0m\u001b[0;34m\u001b[0m\u001b[0;34m\u001b[0m\u001b[0m\n\u001b[1;32m     43\u001b[0m   \u001b[0;32mif\u001b[0m \u001b[0muse_cuda\u001b[0m\u001b[0;34m:\u001b[0m\u001b[0;34m\u001b[0m\u001b[0;34m\u001b[0m\u001b[0m\n\u001b[0;32m---> 44\u001b[0;31m     \u001b[0mx\u001b[0m \u001b[0;34m=\u001b[0m \u001b[0mx\u001b[0m\u001b[0;34m.\u001b[0m\u001b[0mcuda\u001b[0m\u001b[0;34m(\u001b[0m\u001b[0;34m)\u001b[0m\u001b[0;34m\u001b[0m\u001b[0;34m\u001b[0m\u001b[0m\n\u001b[0m\u001b[1;32m     45\u001b[0m   \u001b[0;32melse\u001b[0m\u001b[0;34m:\u001b[0m\u001b[0;34m\u001b[0m\u001b[0;34m\u001b[0m\u001b[0m\n\u001b[1;32m     46\u001b[0m     \u001b[0mmodel\u001b[0m \u001b[0;34m=\u001b[0m \u001b[0mmodel\u001b[0m\u001b[0;34m.\u001b[0m\u001b[0mcpu\u001b[0m\u001b[0;34m(\u001b[0m\u001b[0;34m)\u001b[0m\u001b[0;34m\u001b[0m\u001b[0;34m\u001b[0m\u001b[0m\n",
      "\u001b[0;31mAttributeError\u001b[0m: 'list' object has no attribute 'cuda'"
     ]
    }
   ],
   "source": [
    "# параметрическая сеть без добавления параметров в каналы входного изображения\n",
    "paramnet = ParamNet(filter_name='canny',\n",
    "                   num_features=3,\n",
    "                   in_channels=1,\n",
    "                   mid_channels=12,\n",
    "                   num_coeffs=12)\n",
    "\n",
    "optimizer = torch.optim.Adam(paramnet.parameters())\n",
    "lr_sched = torch.optim.lr_scheduler.CosineAnnealingWarmRestarts(optimizer, T_0=8)\n",
    "loss = nn.BCELoss()\n",
    "early_stopping = EarlyStopping(patience=11)\n",
    "\n",
    "paramnet, history, metrics_calc, writer11 = run_experiment(filter_name='canny', \n",
    "                                                model=paramnet,\n",
    "                                                optimizer=optimizer, \n",
    "                                                criterion=loss,\n",
    "                                                dataset=ParLinnaeus5_v2,\n",
    "                                                is_parameterized=True,\n",
    "                                                is_linear=False,\n",
    "                                                use_cache=False,\n",
    "                                                scheduler=lr_sched,\n",
    "                                                stopping=early_stopping, \n",
    "                                                model_name='paramnet2-canny',\n",
    "                                                add_channel=False,\n",
    "                                                comp_table=None,\n",
    "                                                writer=None,\n",
    "                                                start_idx=0)"
   ]
  },
  {
   "cell_type": "code",
   "execution_count": null,
   "metadata": {},
   "outputs": [],
   "source": []
  }
 ],
 "metadata": {
  "kernelspec": {
   "display_name": "Python 3",
   "language": "python",
   "name": "python3"
  },
  "language_info": {
   "codemirror_mode": {
    "name": "ipython",
    "version": 3
   },
   "file_extension": ".py",
   "mimetype": "text/x-python",
   "name": "python",
   "nbconvert_exporter": "python",
   "pygments_lexer": "ipython3",
   "version": "3.6.10"
  }
 },
 "nbformat": 4,
 "nbformat_minor": 4
}
